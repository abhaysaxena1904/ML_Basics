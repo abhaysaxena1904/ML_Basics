{
  "nbformat": 4,
  "nbformat_minor": 0,
  "metadata": {
    "colab": {
      "provenance": [],
      "include_colab_link": true
    },
    "kernelspec": {
      "name": "python3",
      "display_name": "Python 3"
    },
    "language_info": {
      "name": "python"
    }
  },
  "cells": [
    {
      "cell_type": "markdown",
      "metadata": {
        "id": "view-in-github",
        "colab_type": "text"
      },
      "source": [
        "<a href=\"https://colab.research.google.com/github/abhaysaxena1904/ML_Basics/blob/main/MachineLearning.ipynb\" target=\"_parent\"><img src=\"https://colab.research.google.com/assets/colab-badge.svg\" alt=\"Open In Colab\"/></a>"
      ]
    },
    {
      "cell_type": "markdown",
      "source": [
        "### ML 1\n"
      ],
      "metadata": {
        "id": "riUEhqrkqEjE"
      }
    },
    {
      "cell_type": "markdown",
      "source": [
        "### Regression"
      ],
      "metadata": {
        "id": "6uoL-6x7xlY5"
      }
    },
    {
      "cell_type": "code",
      "source": [],
      "metadata": {
        "id": "wqmYBjVNxCXF"
      },
      "execution_count": null,
      "outputs": []
    },
    {
      "cell_type": "markdown",
      "source": [
        "### Classification"
      ],
      "metadata": {
        "id": "4O_rD7hdxnRO"
      }
    },
    {
      "cell_type": "code",
      "execution_count": null,
      "metadata": {
        "id": "tvofQTzgkkSe"
      },
      "outputs": [],
      "source": []
    },
    {
      "cell_type": "markdown",
      "source": [
        "### Clustering\n"
      ],
      "metadata": {
        "id": "MatJ8qj8xpJT"
      }
    },
    {
      "cell_type": "code",
      "source": [],
      "metadata": {
        "id": "rZbTLe5Txpli"
      },
      "execution_count": null,
      "outputs": []
    }
  ]
}